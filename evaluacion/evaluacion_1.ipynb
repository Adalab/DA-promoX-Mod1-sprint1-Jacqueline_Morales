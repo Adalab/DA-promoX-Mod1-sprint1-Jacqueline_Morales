{
 "cells": [
  {
   "attachments": {},
   "cell_type": "markdown",
   "metadata": {},
   "source": [
    "**Métodos de *strings***\n",
    "\n",
    "Dado el siguiente *string* \n",
    "\n",
    "```python\n",
    "\n",
    "string = \"\"\"Hoy estamos en una clase de repaso,\n",
    "el objetivo es intentar solucionar todas vuestras dudas, \n",
    "preguntad todo lo que queráis! \n",
    "\"\"\"\n",
    "```\n",
    "\n",
    "\n",
    "Contesta a las siguientes preguntas: \n",
    "\n",
    "1️⃣ Crea dos variables nuevas: \n",
    "    - Una con el *string* en mayúsculas\n",
    "    - Otra con las letras en minúsculas\n",
    "\n",
    "2️⃣ Pon todas las primeras letras del *string* en mayúscula\n",
    "\n",
    "3️⃣ Separa el *string*  por los espacios y almacena el resultado en una lista llamanda `texto_lista`\n",
    "\n",
    "4️⃣ De la lista obtenida en el ejercicio anterior, selecciona solo los 5 primero elementos y almacena los resultados en una variable que se llame `texto_lista_corta` \n",
    "\n",
    "5️⃣ De la lista obtenida en el ejercicio 5. Vuelve a convertirlo en *string* \n",
    "\n",
    "6️⃣ Con el *string* obtenido en el paso anterior: \n",
    "\n",
    "    - Esta la palabra \"el\" en el *string* \n",
    "\n",
    "    - Reemplaza \"Hoy\" por nada\n",
    "\n",
    "    - El ejercicio anterior nos ha dejado espacios al inicio del string, eliminalos\n"
   ]
  },
  {
   "cell_type": "code",
   "execution_count": 5,
   "metadata": {},
   "outputs": [
    {
     "data": {
      "text/plain": [
       "'HOY ESTAMOS EN UNA CLASE DE REPASO, EL OBJETIVO ES INTENTAR SOLUCIONAR TODAS VUESTRAS DUDAS, PREGUNTAD TODO LO QUE QUERÁIS!'"
      ]
     },
     "execution_count": 5,
     "metadata": {},
     "output_type": "execute_result"
    }
   ],
   "source": [
    "#ejercicio1 crea dos variables, un string en mayusculas\n",
    "string= \"Hoy estamos en una clase de repaso, el objetivo es intentar solucionar todas vuestras dudas, preguntad todo lo que queráis!\"\n",
    "string1=(string.upper())\n",
    "string1"
   ]
  },
  {
   "cell_type": "code",
   "execution_count": 6,
   "metadata": {},
   "outputs": [
    {
     "data": {
      "text/plain": [
       "'hoy estamos en una clase de repaso, el objetivo es intentar solucionar todas vuestras dudas, preguntad todo lo que queráis!'"
      ]
     },
     "execution_count": 6,
     "metadata": {},
     "output_type": "execute_result"
    }
   ],
   "source": [
    "#jercicio 1 crea una variable, en minusculas\n",
    "string2=(string1.lower())\n",
    "string2"
   ]
  },
  {
   "cell_type": "code",
   "execution_count": 39,
   "metadata": {},
   "outputs": [
    {
     "data": {
      "text/plain": [
       "'Hoy Estamos En Una Clase De Repaso, El Objetivo Es Intentar Solucionar Todas Vuestras Dudas, Preguntad Todo Lo Que Queráis!'"
      ]
     },
     "execution_count": 39,
     "metadata": {},
     "output_type": "execute_result"
    }
   ],
   "source": [
    "#ejercicio 2, pon todas las primeras letras en mayusculas\n",
    "texto_lista1=(string.title())\n",
    "texto_lista1\n"
   ]
  },
  {
   "cell_type": "code",
   "execution_count": 61,
   "metadata": {},
   "outputs": [
    {
     "name": "stdout",
     "output_type": "stream",
     "text": [
      "['Hoy', 'Estamos', 'En', 'Una', 'Clase', 'De', 'Repaso,', 'El', 'Objetivo', 'Es', 'Intentar', 'Solucionar', 'Todas', 'Vuestras', 'Dudas,', 'Preguntad', 'Todo', 'Lo', 'Que', 'Queráis!']\n"
     ]
    }
   ],
   "source": [
    "texto_lista=texto_lista1.split()\n",
    "texto_lista\n",
    "print(texto_lista)"
   ]
  },
  {
   "cell_type": "code",
   "execution_count": 59,
   "metadata": {},
   "outputs": [
    {
     "name": "stdout",
     "output_type": "stream",
     "text": [
      "['Hoy', 'Estamos', 'En', 'Una', 'Clase']\n"
     ]
    }
   ],
   "source": [
    "#4 seleccón 5 primeros elementos\n",
    "texto_lista=texto_lista1.split()          \n",
    "\n",
    "texto_lista_corta=texto_lista[:5]\n",
    "print(texto_lista_corta)"
   ]
  },
  {
   "cell_type": "code",
   "execution_count": 65,
   "metadata": {},
   "outputs": [
    {
     "data": {
      "text/plain": [
       "'Hoy Estamos En Una Clase'"
      ]
     },
     "execution_count": 65,
     "metadata": {},
     "output_type": "execute_result"
    }
   ],
   "source": [
    "#5 vuelve a convertir a str\n",
    "frase_corta=\" \".join(texto_lista_corta)\n",
    "frase_corta"
   ]
  },
  {
   "cell_type": "code",
   "execution_count": 66,
   "metadata": {},
   "outputs": [
    {
     "data": {
      "text/plain": [
       "False"
      ]
     },
     "execution_count": 66,
     "metadata": {},
     "output_type": "execute_result"
    }
   ],
   "source": [
    "# ejercicio 6 esta la palabra \"el\" en el string?\n",
    "\n",
    "\"el\"in frase_corta\n"
   ]
  },
  {
   "cell_type": "code",
   "execution_count": 77,
   "metadata": {},
   "outputs": [
    {
     "data": {
      "text/plain": [
       "'Nada Estamos En Una Clase'"
      ]
     },
     "execution_count": 77,
     "metadata": {},
     "output_type": "execute_result"
    }
   ],
   "source": [
    "# ejercicio 6.2 remplaza la palabra \"hoy\" por nada\n",
    "frase_corta_2=frase_corta.replace(\"Hoy\",\"Nada\")\n",
    "frase_corta_2"
   ]
  },
  {
   "cell_type": "code",
   "execution_count": 79,
   "metadata": {},
   "outputs": [
    {
     "name": "stdout",
     "output_type": "stream",
     "text": [
      "Nada Estamos En Una Clase\n"
     ]
    }
   ],
   "source": [
    "#ejercicio 6.3 eliminar espacios del ejercicio anterior\n",
    "frase_limpia=frase_corta_2.strip()\n",
    "print(frase_limpia)"
   ]
  },
  {
   "attachments": {},
   "cell_type": "markdown",
   "metadata": {},
   "source": [
    "**Encuentra el número que no está en la lista**\n",
    "\n",
    "Tenemos una lista desordenada con números positivos de 1 a n. Siempre faltará un sólo número de esta lista aleatoria, ¿cómo identifico cuál falta? Cread un programa para que este código devuelva los resultados deseados:\n",
    "\n",
    "```python\n",
    "lista1 = [3,7,1,2,8,4,5] # nos tiene que devolver 6\n",
    "lista2 = [4,6,1,3,5] #  nos tiene que devolver 2\n",
    "lista3 = [34,35,36,38,39,40] # nos tiene que devolver 37\n",
    "```\n",
    "\n",
    "BONUS: Introduce los resultados obtenidos en un diccionario, indicando que numero falta para cada una de las listas:\n",
    "```python\n",
    "# por ejemplo\n",
    "\n",
    "resultados = {'falta_lista_1': valor_numerico_1, 'falta_lista_2': valor_numerico_2, 'falta_lista_3': valor_numerico_3}\n",
    "```"
   ]
  },
  {
   "cell_type": "code",
   "execution_count": 39,
   "metadata": {},
   "outputs": [
    {
     "name": "stdout",
     "output_type": "stream",
     "text": [
      "[1, 2, 3, 4, 5, 7, 8]\n",
      "el número que falta es 6\n"
     ]
    }
   ],
   "source": [
    "#ejercicio 4 lista1\n",
    "\n",
    "lista1 =[3,7,1,2,8,4,5]\n",
    "lista1.sort()\n",
    "print(lista1)\n",
    "n=0\n",
    "for i in lista1:\n",
    "    n =n+1\n",
    "    \n",
    "    if i != n:\n",
    "          print(f\"el número que falta es {n}\")\n",
    "          break \n",
    "          \n",
    "        \n",
    "        \n",
    "    \n",
    "    \n"
   ]
  },
  {
   "cell_type": "code",
   "execution_count": 41,
   "metadata": {},
   "outputs": [
    {
     "name": "stdout",
     "output_type": "stream",
     "text": [
      "[1, 3, 4, 5, 6]\n",
      "el numero que falta es 2\n"
     ]
    }
   ],
   "source": [
    "#ejercicio 4 lista2\n",
    "lista2=[4,6,1,3,5]\n",
    "lista2.sort()\n",
    "print(lista2)\n",
    "n=0\n",
    "for i in lista2:\n",
    "    n=n+1\n",
    "    if i != n:\n",
    "        print(f\"el numero que falta es {n}\")\n",
    "        break"
   ]
  },
  {
   "cell_type": "code",
   "execution_count": 51,
   "metadata": {},
   "outputs": [
    {
     "name": "stdout",
     "output_type": "stream",
     "text": [
      "[34, 35, 36, 38, 39, 40]\n",
      "el numero que falta es 37\n"
     ]
    }
   ],
   "source": [
    "# ejercicio 4 lista3\n",
    "lista3=[34,35,36,38,39,40]\n",
    "lista3.sort()\n",
    "print(lista3)\n",
    "n=33\n",
    "for i in lista3:\n",
    "    n=n+1\n",
    "    if i != n:\n",
    "        print(f\"el numero que falta es {n}\")\n",
    "        break\n",
    "        "
   ]
  },
  {
   "cell_type": "markdown",
   "metadata": {},
   "source": [
    "**Mover los ceros a la izquierda**\n",
    "\n",
    "Nos dan un *string* con números aleatorios. Algunos de ellos son 0. Encuentra todos los ceros y ponlos al principio de la lista, manteniendo el orden de los demás números.\n",
    "\n",
    "Ejemplo:\n",
    "\n",
    "```python\n",
    "A = [1,10,88,0,59,63,0,20,0]\n",
    "\n",
    "# tiene que devolver\n",
    "[0, 0, 0, 1, 10, 88, 59, 63, 20]\n",
    "```"
   ]
  },
  {
   "cell_type": "code",
   "execution_count": 33,
   "metadata": {},
   "outputs": [
    {
     "name": "stdout",
     "output_type": "stream",
     "text": [
      "[1, 10, 88, 59, 63, 0, 20, 0]\n",
      "[1, 10, 88, 59, 63, 20, 0]\n",
      "[1, 10, 88, 59, 63, 20]\n"
     ]
    },
    {
     "data": {
      "text/plain": [
       "[0, 0, 0, 1, 10, 88, 59, 63, 20]"
      ]
     },
     "execution_count": 33,
     "metadata": {},
     "output_type": "execute_result"
    }
   ],
   "source": [
    "A=[1,10,88,0,59,63,0,20,0]\n",
    "B=A.copy()\n",
    "C=[]\n",
    "for i in B:\n",
    "    if i == 0:\n",
    "         B.remove(0)\n",
    "         print(B)\n",
    "         C.append(0)\n",
    "        \n",
    "C.extend(B)\n",
    "C\n",
    "         \n",
    "        \n",
    "         \n",
    "         \n",
    "         \n",
    "         \n",
    "            \n",
    "        \n",
    "            \n",
    " \n",
    "    "
   ]
  },
  {
   "cell_type": "code",
   "execution_count": 32,
   "metadata": {},
   "outputs": [
    {
     "data": {
      "text/plain": [
       "[0, 0, 0, 1, 10, 88, 59, 63, 20]"
      ]
     },
     "execution_count": 32,
     "metadata": {},
     "output_type": "execute_result"
    }
   ],
   "source": [
    "C"
   ]
  },
  {
   "cell_type": "markdown",
   "metadata": {},
   "source": [
    "**Invertir palabras de una frase**\n",
    "\n",
    "Nos dan una frase en que quieren que las letras de cada palabra acaben teniendo el orden invertido, manteniendo el orden de las palabras.\n",
    "\n",
    "```python\n",
    "frase = 'Hola Ada'\n",
    "print(frase) # nos daría 'aloH adA'\n",
    "```"
   ]
  },
  {
   "cell_type": "code",
   "execution_count": 85,
   "metadata": {},
   "outputs": [
    {
     "name": "stdout",
     "output_type": "stream",
     "text": [
      "['Hola', 'Ada']\n",
      "Hola\n"
     ]
    },
    {
     "data": {
      "text/plain": [
       "'aloH'"
      ]
     },
     "execution_count": 85,
     "metadata": {},
     "output_type": "execute_result"
    }
   ],
   "source": [
    "frase=\"Hola Ada\"\n",
    "\n",
    "frase2=frase.split()\n",
    "print(frase2)\n",
    "\n",
    "frase3=frase2[0]\n",
    "print(frase3)\n",
    "h=frase3[::-1]\n",
    "h\n",
    "\n"
   ]
  },
  {
   "cell_type": "code",
   "execution_count": null,
   "metadata": {},
   "outputs": [
    {
     "name": "stdout",
     "output_type": "stream",
     "text": [
      "aloH  adA\n"
     ]
    }
   ],
   "source": [
    "frase4=frase2[1] \n",
    "a=frase4[::-1]\n",
    "\n",
    "print(h, \"\",a)\n"
   ]
  },
  {
   "attachments": {},
   "cell_type": "markdown",
   "metadata": {},
   "source": [
    "###  ¿Es un DNI valido?\n",
    "\n",
    "Los DNI españoles pueden ser:\n",
    "\n",
    "- NIF (Numero de Identificación Fiscal) - 8 numeros y una letra, o\n",
    "- NIE (Numero de Identificación de Extranjeros) - 1 letra, 7 numeros y 1 letra."
   ]
  },
  {
   "cell_type": "code",
   "execution_count": 86,
   "metadata": {},
   "outputs": [],
   "source": [
    "lista_dni = [\"X-1234567-Z\", \"X-1234567\", \"12345678-M\", \"1234567-T\", \"12345677\"] "
   ]
  },
  {
   "cell_type": "code",
   "execution_count": 90,
   "metadata": {},
   "outputs": [],
   "source": [
    "dni_valido=[]\n",
    "\n",
    "for i in lista_dni:\n",
    "    if len(i)>= 9:\n",
    "        dni_valido.append(\"valido\")\n",
    "    else:\n",
    "        dni_valido.append(\"no, valido\")"
   ]
  },
  {
   "cell_type": "code",
   "execution_count": 91,
   "metadata": {},
   "outputs": [
    {
     "data": {
      "text/plain": [
       "['valido', 'valido', 'valido', 'valido', 'no, valido']"
      ]
     },
     "execution_count": 91,
     "metadata": {},
     "output_type": "execute_result"
    }
   ],
   "source": [
    "dni_valido"
   ]
  },
  {
   "attachments": {},
   "cell_type": "markdown",
   "metadata": {},
   "source": [
    "**BONUS: Encuentra los k números más cerca a X**\n",
    "\n",
    "\n",
    "Haz una programa que compare los contenidos de una lista a un número dado X. Queremos que nos devuelva los k números que son más parecidos al número dado.\n",
    "\n",
    "Ejemplo:\n",
    "```python\n",
    "L = [4, 19, -5, 100, 53, 43, 74, -83, 13.5, 26]\n",
    "# Dados los siguientes valores \n",
    "x =30\n",
    "k = 3 # el número de números que tendremos que buscar en la lista que se parecen a 30 \n",
    "# El output debería ser igual a [26, 19, 43]\n",
    "```"
   ]
  },
  {
   "cell_type": "code",
   "execution_count": null,
   "metadata": {},
   "outputs": [],
   "source": [
    ".."
   ]
  }
 ],
 "metadata": {
  "kernelspec": {
   "display_name": "Python 3",
   "language": "python",
   "name": "python3"
  },
  "language_info": {
   "codemirror_mode": {
    "name": "ipython",
    "version": 3
   },
   "file_extension": ".py",
   "mimetype": "text/x-python",
   "name": "python",
   "nbconvert_exporter": "python",
   "pygments_lexer": "ipython3",
   "version": "3.10.9"
  },
  "orig_nbformat": 4,
  "vscode": {
   "interpreter": {
    "hash": "31f2aee4e71d21fbe5cf8b01ff0e069b9275f58929596ceb00d14d90e3e16cd6"
   }
  }
 },
 "nbformat": 4,
 "nbformat_minor": 2
}
